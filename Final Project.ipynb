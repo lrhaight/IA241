{
 "cells": [
  {
   "cell_type": "markdown",
   "id": "be58d607",
   "metadata": {},
   "source": [
    "# Analyzing North American Covid-19 Data in Python"
   ]
  },
  {
   "cell_type": "markdown",
   "id": "9b3c8d9e",
   "metadata": {},
   "source": [
    "### Created by Logan Haight"
   ]
  },
  {
   "cell_type": "markdown",
   "id": "46975ed8",
   "metadata": {},
   "source": [
    "## Data Source"
   ]
  },
  {
   "cell_type": "markdown",
   "id": "cd1e1734",
   "metadata": {},
   "source": [
    "The data is downloaded from [European Centre for Disease Prevention and Control](https://www.ecdc.europa.eu/en/publications-data/download-todays-data-geographic-distribution-covid-19-cases-worldwide)"
   ]
  },
  {
   "cell_type": "markdown",
   "id": "21b512e9",
   "metadata": {},
   "source": [
    "![](https://encrypted-tbn0.gstatic.com/images?q=tbn:ANd9GcTOynX2aWAdatPubRLJ8L5S7gB2MF4cqyl4HQ&usqp=CAU)"
   ]
  },
  {
   "cell_type": "code",
   "execution_count": 1,
   "id": "a1f6c837",
   "metadata": {},
   "outputs": [],
   "source": [
    "%matplotlib inline\n",
    "import pandas\n",
    "import matplotlib.pyplot as plt"
   ]
  },
  {
   "cell_type": "markdown",
   "id": "f4e5fbc5",
   "metadata": {},
   "source": [
    "## Background Information on Covid-19 and Afghanistan"
   ]
  },
  {
   "cell_type": "markdown",
   "id": "7a58ec85",
   "metadata": {},
   "source": [
    "According to the World Health Organization (WHO), since Janurary 3rd of 2020 to May of 2021, there have been 60,300 confirmed cases of COVID-19 with a total of 2,642 deaths. As of April 29, 2021, a total of 334,644 vaccincations have been administered.\n",
    "\n",
    "According to the Afghan–Japan Communicable Disease Hospital director, more than 90% of staff members (doctors/nurses) have been infected since the outbreak, and a second wave is expected to hit as as Winter conditions along with increased violence could lead to a rise in infections. \n",
    "\n",
    "Afghanistan recorded its first case of COVID-19 in the western city of Herat in mid-February in a man who had returned from neighbouring Iran, where the virus had begun to spread rapidly. In March, as tens of thousands of migrant Afghan workers crossed the border from Iran back into Afghanistan, the virus spread rapidly as workers piled onto buses and travelled across the country. Lockdown measures were implemented soon afterwards. Infections peaked in May and June before significantly declining."
   ]
  },
  {
   "cell_type": "markdown",
   "id": "e52f8866",
   "metadata": {},
   "source": [
    "## The Data"
   ]
  },
  {
   "cell_type": "code",
   "execution_count": 2,
   "id": "0ac3e679",
   "metadata": {},
   "outputs": [
    {
     "data": {
      "text/html": [
       "<div>\n",
       "<style scoped>\n",
       "    .dataframe tbody tr th:only-of-type {\n",
       "        vertical-align: middle;\n",
       "    }\n",
       "\n",
       "    .dataframe tbody tr th {\n",
       "        vertical-align: top;\n",
       "    }\n",
       "\n",
       "    .dataframe thead th {\n",
       "        text-align: right;\n",
       "    }\n",
       "</style>\n",
       "<table border=\"1\" class=\"dataframe\">\n",
       "  <thead>\n",
       "    <tr style=\"text-align: right;\">\n",
       "      <th></th>\n",
       "      <th>dateRep</th>\n",
       "      <th>day</th>\n",
       "      <th>month</th>\n",
       "      <th>year</th>\n",
       "      <th>cases</th>\n",
       "      <th>deaths</th>\n",
       "      <th>countriesAndTerritories</th>\n",
       "      <th>geoId</th>\n",
       "      <th>countryterritoryCode</th>\n",
       "      <th>popData2019</th>\n",
       "      <th>continentExp</th>\n",
       "      <th>Cumulative_number_for_14_days_of_COVID-19_cases_per_100000</th>\n",
       "    </tr>\n",
       "  </thead>\n",
       "  <tbody>\n",
       "    <tr>\n",
       "      <th>0</th>\n",
       "      <td>2020-12-14</td>\n",
       "      <td>14</td>\n",
       "      <td>12</td>\n",
       "      <td>2020</td>\n",
       "      <td>746</td>\n",
       "      <td>6</td>\n",
       "      <td>Afghanistan</td>\n",
       "      <td>AF</td>\n",
       "      <td>AFG</td>\n",
       "      <td>38041757.0</td>\n",
       "      <td>Asia</td>\n",
       "      <td>9.013779</td>\n",
       "    </tr>\n",
       "    <tr>\n",
       "      <th>1</th>\n",
       "      <td>2020-12-13</td>\n",
       "      <td>13</td>\n",
       "      <td>12</td>\n",
       "      <td>2020</td>\n",
       "      <td>298</td>\n",
       "      <td>9</td>\n",
       "      <td>Afghanistan</td>\n",
       "      <td>AF</td>\n",
       "      <td>AFG</td>\n",
       "      <td>38041757.0</td>\n",
       "      <td>Asia</td>\n",
       "      <td>7.052776</td>\n",
       "    </tr>\n",
       "    <tr>\n",
       "      <th>2</th>\n",
       "      <td>2020-12-12</td>\n",
       "      <td>12</td>\n",
       "      <td>12</td>\n",
       "      <td>2020</td>\n",
       "      <td>113</td>\n",
       "      <td>11</td>\n",
       "      <td>Afghanistan</td>\n",
       "      <td>AF</td>\n",
       "      <td>AFG</td>\n",
       "      <td>38041757.0</td>\n",
       "      <td>Asia</td>\n",
       "      <td>6.868768</td>\n",
       "    </tr>\n",
       "    <tr>\n",
       "      <th>3</th>\n",
       "      <td>2020-12-11</td>\n",
       "      <td>11</td>\n",
       "      <td>12</td>\n",
       "      <td>2020</td>\n",
       "      <td>63</td>\n",
       "      <td>10</td>\n",
       "      <td>Afghanistan</td>\n",
       "      <td>AF</td>\n",
       "      <td>AFG</td>\n",
       "      <td>38041757.0</td>\n",
       "      <td>Asia</td>\n",
       "      <td>7.134266</td>\n",
       "    </tr>\n",
       "    <tr>\n",
       "      <th>4</th>\n",
       "      <td>2020-12-10</td>\n",
       "      <td>10</td>\n",
       "      <td>12</td>\n",
       "      <td>2020</td>\n",
       "      <td>202</td>\n",
       "      <td>16</td>\n",
       "      <td>Afghanistan</td>\n",
       "      <td>AF</td>\n",
       "      <td>AFG</td>\n",
       "      <td>38041757.0</td>\n",
       "      <td>Asia</td>\n",
       "      <td>6.968658</td>\n",
       "    </tr>\n",
       "    <tr>\n",
       "      <th>5</th>\n",
       "      <td>2020-12-09</td>\n",
       "      <td>9</td>\n",
       "      <td>12</td>\n",
       "      <td>2020</td>\n",
       "      <td>135</td>\n",
       "      <td>13</td>\n",
       "      <td>Afghanistan</td>\n",
       "      <td>AF</td>\n",
       "      <td>AFG</td>\n",
       "      <td>38041757.0</td>\n",
       "      <td>Asia</td>\n",
       "      <td>6.963401</td>\n",
       "    </tr>\n",
       "    <tr>\n",
       "      <th>6</th>\n",
       "      <td>2020-12-08</td>\n",
       "      <td>8</td>\n",
       "      <td>12</td>\n",
       "      <td>2020</td>\n",
       "      <td>200</td>\n",
       "      <td>6</td>\n",
       "      <td>Afghanistan</td>\n",
       "      <td>AF</td>\n",
       "      <td>AFG</td>\n",
       "      <td>38041757.0</td>\n",
       "      <td>Asia</td>\n",
       "      <td>7.094835</td>\n",
       "    </tr>\n",
       "    <tr>\n",
       "      <th>7</th>\n",
       "      <td>2020-12-07</td>\n",
       "      <td>7</td>\n",
       "      <td>12</td>\n",
       "      <td>2020</td>\n",
       "      <td>210</td>\n",
       "      <td>26</td>\n",
       "      <td>Afghanistan</td>\n",
       "      <td>AF</td>\n",
       "      <td>AFG</td>\n",
       "      <td>38041757.0</td>\n",
       "      <td>Asia</td>\n",
       "      <td>7.215755</td>\n",
       "    </tr>\n",
       "    <tr>\n",
       "      <th>8</th>\n",
       "      <td>2020-12-06</td>\n",
       "      <td>6</td>\n",
       "      <td>12</td>\n",
       "      <td>2020</td>\n",
       "      <td>234</td>\n",
       "      <td>10</td>\n",
       "      <td>Afghanistan</td>\n",
       "      <td>AF</td>\n",
       "      <td>AFG</td>\n",
       "      <td>38041757.0</td>\n",
       "      <td>Asia</td>\n",
       "      <td>7.326160</td>\n",
       "    </tr>\n",
       "    <tr>\n",
       "      <th>9</th>\n",
       "      <td>2020-12-05</td>\n",
       "      <td>5</td>\n",
       "      <td>12</td>\n",
       "      <td>2020</td>\n",
       "      <td>235</td>\n",
       "      <td>18</td>\n",
       "      <td>Afghanistan</td>\n",
       "      <td>AF</td>\n",
       "      <td>AFG</td>\n",
       "      <td>38041757.0</td>\n",
       "      <td>Asia</td>\n",
       "      <td>7.115865</td>\n",
       "    </tr>\n",
       "  </tbody>\n",
       "</table>\n",
       "</div>"
      ],
      "text/plain": [
       "     dateRep  day  month  year  cases  deaths countriesAndTerritories geoId  \\\n",
       "0 2020-12-14   14     12  2020    746       6             Afghanistan    AF   \n",
       "1 2020-12-13   13     12  2020    298       9             Afghanistan    AF   \n",
       "2 2020-12-12   12     12  2020    113      11             Afghanistan    AF   \n",
       "3 2020-12-11   11     12  2020     63      10             Afghanistan    AF   \n",
       "4 2020-12-10   10     12  2020    202      16             Afghanistan    AF   \n",
       "5 2020-12-09    9     12  2020    135      13             Afghanistan    AF   \n",
       "6 2020-12-08    8     12  2020    200       6             Afghanistan    AF   \n",
       "7 2020-12-07    7     12  2020    210      26             Afghanistan    AF   \n",
       "8 2020-12-06    6     12  2020    234      10             Afghanistan    AF   \n",
       "9 2020-12-05    5     12  2020    235      18             Afghanistan    AF   \n",
       "\n",
       "  countryterritoryCode  popData2019 continentExp  \\\n",
       "0                  AFG   38041757.0         Asia   \n",
       "1                  AFG   38041757.0         Asia   \n",
       "2                  AFG   38041757.0         Asia   \n",
       "3                  AFG   38041757.0         Asia   \n",
       "4                  AFG   38041757.0         Asia   \n",
       "5                  AFG   38041757.0         Asia   \n",
       "6                  AFG   38041757.0         Asia   \n",
       "7                  AFG   38041757.0         Asia   \n",
       "8                  AFG   38041757.0         Asia   \n",
       "9                  AFG   38041757.0         Asia   \n",
       "\n",
       "   Cumulative_number_for_14_days_of_COVID-19_cases_per_100000  \n",
       "0                                           9.013779           \n",
       "1                                           7.052776           \n",
       "2                                           6.868768           \n",
       "3                                           7.134266           \n",
       "4                                           6.968658           \n",
       "5                                           6.963401           \n",
       "6                                           7.094835           \n",
       "7                                           7.215755           \n",
       "8                                           7.326160           \n",
       "9                                           7.115865           "
      ]
     },
     "execution_count": 2,
     "metadata": {},
     "output_type": "execute_result"
    }
   ],
   "source": [
    "df = pandas.read_excel('s3://logan-ia241-2021spring/COVID-19-geographic-disbtribution-worldwide-2020-12-14 (12).xls')\n",
    "df[:10]"
   ]
  },
  {
   "cell_type": "markdown",
   "id": "44d01ce1",
   "metadata": {},
   "source": [
    "## Afghanistan Data"
   ]
  },
  {
   "cell_type": "code",
   "execution_count": 3,
   "id": "032886e8",
   "metadata": {
    "scrolled": true
   },
   "outputs": [
    {
     "data": {
      "text/html": [
       "<div>\n",
       "<style scoped>\n",
       "    .dataframe tbody tr th:only-of-type {\n",
       "        vertical-align: middle;\n",
       "    }\n",
       "\n",
       "    .dataframe tbody tr th {\n",
       "        vertical-align: top;\n",
       "    }\n",
       "\n",
       "    .dataframe thead th {\n",
       "        text-align: right;\n",
       "    }\n",
       "</style>\n",
       "<table border=\"1\" class=\"dataframe\">\n",
       "  <thead>\n",
       "    <tr style=\"text-align: right;\">\n",
       "      <th></th>\n",
       "      <th>dateRep</th>\n",
       "      <th>day</th>\n",
       "      <th>month</th>\n",
       "      <th>year</th>\n",
       "      <th>cases</th>\n",
       "      <th>deaths</th>\n",
       "      <th>countriesAndTerritories</th>\n",
       "      <th>geoId</th>\n",
       "      <th>countryterritoryCode</th>\n",
       "      <th>popData2019</th>\n",
       "      <th>continentExp</th>\n",
       "      <th>Cumulative_number_for_14_days_of_COVID-19_cases_per_100000</th>\n",
       "    </tr>\n",
       "  </thead>\n",
       "  <tbody>\n",
       "    <tr>\n",
       "      <th>0</th>\n",
       "      <td>2020-12-14</td>\n",
       "      <td>14</td>\n",
       "      <td>12</td>\n",
       "      <td>2020</td>\n",
       "      <td>746</td>\n",
       "      <td>6</td>\n",
       "      <td>Afghanistan</td>\n",
       "      <td>AF</td>\n",
       "      <td>AFG</td>\n",
       "      <td>38041757.0</td>\n",
       "      <td>Asia</td>\n",
       "      <td>9.013779</td>\n",
       "    </tr>\n",
       "    <tr>\n",
       "      <th>1</th>\n",
       "      <td>2020-12-13</td>\n",
       "      <td>13</td>\n",
       "      <td>12</td>\n",
       "      <td>2020</td>\n",
       "      <td>298</td>\n",
       "      <td>9</td>\n",
       "      <td>Afghanistan</td>\n",
       "      <td>AF</td>\n",
       "      <td>AFG</td>\n",
       "      <td>38041757.0</td>\n",
       "      <td>Asia</td>\n",
       "      <td>7.052776</td>\n",
       "    </tr>\n",
       "    <tr>\n",
       "      <th>2</th>\n",
       "      <td>2020-12-12</td>\n",
       "      <td>12</td>\n",
       "      <td>12</td>\n",
       "      <td>2020</td>\n",
       "      <td>113</td>\n",
       "      <td>11</td>\n",
       "      <td>Afghanistan</td>\n",
       "      <td>AF</td>\n",
       "      <td>AFG</td>\n",
       "      <td>38041757.0</td>\n",
       "      <td>Asia</td>\n",
       "      <td>6.868768</td>\n",
       "    </tr>\n",
       "    <tr>\n",
       "      <th>3</th>\n",
       "      <td>2020-12-11</td>\n",
       "      <td>11</td>\n",
       "      <td>12</td>\n",
       "      <td>2020</td>\n",
       "      <td>63</td>\n",
       "      <td>10</td>\n",
       "      <td>Afghanistan</td>\n",
       "      <td>AF</td>\n",
       "      <td>AFG</td>\n",
       "      <td>38041757.0</td>\n",
       "      <td>Asia</td>\n",
       "      <td>7.134266</td>\n",
       "    </tr>\n",
       "    <tr>\n",
       "      <th>4</th>\n",
       "      <td>2020-12-10</td>\n",
       "      <td>10</td>\n",
       "      <td>12</td>\n",
       "      <td>2020</td>\n",
       "      <td>202</td>\n",
       "      <td>16</td>\n",
       "      <td>Afghanistan</td>\n",
       "      <td>AF</td>\n",
       "      <td>AFG</td>\n",
       "      <td>38041757.0</td>\n",
       "      <td>Asia</td>\n",
       "      <td>6.968658</td>\n",
       "    </tr>\n",
       "    <tr>\n",
       "      <th>...</th>\n",
       "      <td>...</td>\n",
       "      <td>...</td>\n",
       "      <td>...</td>\n",
       "      <td>...</td>\n",
       "      <td>...</td>\n",
       "      <td>...</td>\n",
       "      <td>...</td>\n",
       "      <td>...</td>\n",
       "      <td>...</td>\n",
       "      <td>...</td>\n",
       "      <td>...</td>\n",
       "      <td>...</td>\n",
       "    </tr>\n",
       "    <tr>\n",
       "      <th>335</th>\n",
       "      <td>2020-01-04</td>\n",
       "      <td>4</td>\n",
       "      <td>1</td>\n",
       "      <td>2020</td>\n",
       "      <td>0</td>\n",
       "      <td>0</td>\n",
       "      <td>Afghanistan</td>\n",
       "      <td>AF</td>\n",
       "      <td>AFG</td>\n",
       "      <td>38041757.0</td>\n",
       "      <td>Asia</td>\n",
       "      <td>NaN</td>\n",
       "    </tr>\n",
       "    <tr>\n",
       "      <th>336</th>\n",
       "      <td>2020-01-03</td>\n",
       "      <td>3</td>\n",
       "      <td>1</td>\n",
       "      <td>2020</td>\n",
       "      <td>0</td>\n",
       "      <td>0</td>\n",
       "      <td>Afghanistan</td>\n",
       "      <td>AF</td>\n",
       "      <td>AFG</td>\n",
       "      <td>38041757.0</td>\n",
       "      <td>Asia</td>\n",
       "      <td>NaN</td>\n",
       "    </tr>\n",
       "    <tr>\n",
       "      <th>337</th>\n",
       "      <td>2020-01-02</td>\n",
       "      <td>2</td>\n",
       "      <td>1</td>\n",
       "      <td>2020</td>\n",
       "      <td>0</td>\n",
       "      <td>0</td>\n",
       "      <td>Afghanistan</td>\n",
       "      <td>AF</td>\n",
       "      <td>AFG</td>\n",
       "      <td>38041757.0</td>\n",
       "      <td>Asia</td>\n",
       "      <td>NaN</td>\n",
       "    </tr>\n",
       "    <tr>\n",
       "      <th>338</th>\n",
       "      <td>2020-01-01</td>\n",
       "      <td>1</td>\n",
       "      <td>1</td>\n",
       "      <td>2020</td>\n",
       "      <td>0</td>\n",
       "      <td>0</td>\n",
       "      <td>Afghanistan</td>\n",
       "      <td>AF</td>\n",
       "      <td>AFG</td>\n",
       "      <td>38041757.0</td>\n",
       "      <td>Asia</td>\n",
       "      <td>NaN</td>\n",
       "    </tr>\n",
       "    <tr>\n",
       "      <th>339</th>\n",
       "      <td>2019-12-31</td>\n",
       "      <td>31</td>\n",
       "      <td>12</td>\n",
       "      <td>2019</td>\n",
       "      <td>0</td>\n",
       "      <td>0</td>\n",
       "      <td>Afghanistan</td>\n",
       "      <td>AF</td>\n",
       "      <td>AFG</td>\n",
       "      <td>38041757.0</td>\n",
       "      <td>Asia</td>\n",
       "      <td>NaN</td>\n",
       "    </tr>\n",
       "  </tbody>\n",
       "</table>\n",
       "<p>340 rows × 12 columns</p>\n",
       "</div>"
      ],
      "text/plain": [
       "       dateRep  day  month  year  cases  deaths countriesAndTerritories geoId  \\\n",
       "0   2020-12-14   14     12  2020    746       6             Afghanistan    AF   \n",
       "1   2020-12-13   13     12  2020    298       9             Afghanistan    AF   \n",
       "2   2020-12-12   12     12  2020    113      11             Afghanistan    AF   \n",
       "3   2020-12-11   11     12  2020     63      10             Afghanistan    AF   \n",
       "4   2020-12-10   10     12  2020    202      16             Afghanistan    AF   \n",
       "..         ...  ...    ...   ...    ...     ...                     ...   ...   \n",
       "335 2020-01-04    4      1  2020      0       0             Afghanistan    AF   \n",
       "336 2020-01-03    3      1  2020      0       0             Afghanistan    AF   \n",
       "337 2020-01-02    2      1  2020      0       0             Afghanistan    AF   \n",
       "338 2020-01-01    1      1  2020      0       0             Afghanistan    AF   \n",
       "339 2019-12-31   31     12  2019      0       0             Afghanistan    AF   \n",
       "\n",
       "    countryterritoryCode  popData2019 continentExp  \\\n",
       "0                    AFG   38041757.0         Asia   \n",
       "1                    AFG   38041757.0         Asia   \n",
       "2                    AFG   38041757.0         Asia   \n",
       "3                    AFG   38041757.0         Asia   \n",
       "4                    AFG   38041757.0         Asia   \n",
       "..                   ...          ...          ...   \n",
       "335                  AFG   38041757.0         Asia   \n",
       "336                  AFG   38041757.0         Asia   \n",
       "337                  AFG   38041757.0         Asia   \n",
       "338                  AFG   38041757.0         Asia   \n",
       "339                  AFG   38041757.0         Asia   \n",
       "\n",
       "     Cumulative_number_for_14_days_of_COVID-19_cases_per_100000  \n",
       "0                                             9.013779           \n",
       "1                                             7.052776           \n",
       "2                                             6.868768           \n",
       "3                                             7.134266           \n",
       "4                                             6.968658           \n",
       "..                                                 ...           \n",
       "335                                                NaN           \n",
       "336                                                NaN           \n",
       "337                                                NaN           \n",
       "338                                                NaN           \n",
       "339                                                NaN           \n",
       "\n",
       "[340 rows x 12 columns]"
      ]
     },
     "execution_count": 3,
     "metadata": {},
     "output_type": "execute_result"
    }
   ],
   "source": [
    "afghanistan_data = df.loc[ df['countriesAndTerritories']=='Afghanistan'] \n",
    "afghanistan_data[:]"
   ]
  },
  {
   "cell_type": "markdown",
   "id": "387b62eb",
   "metadata": {},
   "source": [
    "## Afghanistan # of Deaths (2020)"
   ]
  },
  {
   "cell_type": "code",
   "execution_count": 11,
   "id": "3290ca8f",
   "metadata": {},
   "outputs": [
    {
     "data": {
      "text/plain": [
       "1971"
      ]
     },
     "execution_count": 11,
     "metadata": {},
     "output_type": "execute_result"
    }
   ],
   "source": [
    "afghanistan_data['deaths'].sum()"
   ]
  },
  {
   "cell_type": "markdown",
   "id": "8c644ffd",
   "metadata": {},
   "source": [
    "## Trend of # of Confirmed Cases"
   ]
  },
  {
   "cell_type": "code",
   "execution_count": 7,
   "id": "66956681",
   "metadata": {},
   "outputs": [],
   "source": [
    "sum_cases_per_day= afghanistan_data.groupby('dateRep').sum()['cases'] "
   ]
  },
  {
   "cell_type": "code",
   "execution_count": 8,
   "id": "a3fd8f0d",
   "metadata": {},
   "outputs": [
    {
     "data": {
      "text/plain": [
       "<AxesSubplot:xlabel='dateRep'>"
      ]
     },
     "execution_count": 8,
     "metadata": {},
     "output_type": "execute_result"
    },
    {
     "data": {
      "image/png": "[encoded data removed]",
      "text/plain": [
       "<Figure size 432x288 with 1 Axes>"
      ]
     },
     "metadata": {
      "needs_background": "light"
     },
     "output_type": "display_data"
    }
   ],
   "source": [
    "sum_cases_per_day.plot()"
   ]
  },
  {
   "cell_type": "markdown",
   "id": "e8820abd",
   "metadata": {},
   "source": [
    "## Month with most Deaths in Afghanistan (2020)"
   ]
  },
  {
   "cell_type": "code",
   "execution_count": 9,
   "id": "451f0a29",
   "metadata": {},
   "outputs": [
    {
     "data": {
      "image/png": "[encoded data removed]",
      "text/plain": [
       "<Figure size 432x288 with 1 Axes>"
      ]
     },
     "metadata": {
      "needs_background": "light"
     },
     "output_type": "display_data"
    }
   ],
   "source": [
    "afghanistan_death_sum= afghanistan_data.groupby('month').sum()['deaths']\n",
    "\n",
    "afghanistan_death_sum.plot.bar()\n",
    "plt.ylabel('deaths')\n",
    "plt.title('Covid-19 Deaths in Afghanistan by Month (2020)')\n",
    "plt.show()"
   ]
  },
  {
   "cell_type": "markdown",
   "id": "e60a8dec",
   "metadata": {},
   "source": [
    "## How Number of Deaths is Related to Number of Cases"
   ]
  },
  {
   "cell_type": "code",
   "execution_count": 7,
   "id": "a8fd2ece",
   "metadata": {},
   "outputs": [
    {
     "data": {
      "text/plain": [
       "<AxesSubplot:xlabel='cases', ylabel='deaths'>"
      ]
     },
     "execution_count": 7,
     "metadata": {},
     "output_type": "execute_result"
    },
    {
     "data": {
      "image/png": "[encoded data removed]",
      "text/plain": [
       "<Figure size 432x288 with 2 Axes>"
      ]
     },
     "metadata": {
      "needs_background": "light"
     },
     "output_type": "display_data"
    }
   ],
   "source": [
    "afghanistan_data.plot.scatter(x='cases',y='deaths',c='month')"
   ]
  },
  {
   "cell_type": "markdown",
   "id": "3c0fcc6c",
   "metadata": {},
   "source": [
    "## Explanation of Calculations"
   ]
  },
  {
   "cell_type": "markdown",
   "id": "afe00c25",
   "metadata": {},
   "source": [
    "### The Introduction"
   ]
  },
  {
   "cell_type": "markdown",
   "id": "182c90cd",
   "metadata": {},
   "source": [
    "For the title (and other subheadings), we used markdown and '#','##','###' to separate our Covid-19 data of Afghanistan. \n",
    "To import the data source in a hyper link, we simply put the title in brackets [European Centre for Disease Prevention and Control] and placed ()'s with the URL of the website after it. \n",
    "For the Afghanistan flag image, we input: ![Afghanistan image](image address) \n",
    "To import the data from our S3 bucket, we used the '%matplotlib inline' code which allows the figures in the notebook to render. We also \"import pandas\" to have a library where we can manipulate the data "
   ]
  },
  {
   "cell_type": "markdown",
   "id": "563fcc99",
   "metadata": {},
   "source": [
    "### The Data"
   ]
  },
  {
   "cell_type": "markdown",
   "id": "286a8d65",
   "metadata": {},
   "source": [
    "To import the data of the top ten rows displayed in the Covid-19 Distribution spreadsheet, we copied the S3 URL of our Covid-19 data and used code:\n",
    "'df=pandas.read_excel(S3 URL) \n",
    "df[:10]'\n",
    "To import the data of the top ten rows of Afghanistan specifically, we made \"afghanistan_data\" a variable and used the df.loc function to access the group of rows by the label 'countriesAndTerritories'"
   ]
  },
  {
   "cell_type": "markdown",
   "id": "2b0671d6",
   "metadata": {},
   "source": [
    "### Number of Deaths"
   ]
  },
  {
   "cell_type": "markdown",
   "id": "14a1a7b3",
   "metadata": {},
   "source": [
    "To calculate the number of deaths for all 339 rows of data under 'Afghanistan', we used the variable 'afghanistan_data' and placed what label we were looking for ['deaths'] in brackets, and then used the '.sum()' function to find that labels total in all rows"
   ]
  },
  {
   "cell_type": "markdown",
   "id": "a7920977",
   "metadata": {},
   "source": [
    "### Trend of Confirmed Cases"
   ]
  },
  {
   "cell_type": "markdown",
   "id": "c34d82e1",
   "metadata": {},
   "source": [
    "To find the trend of the number of confirmed cases in Afghanistan, we created a variable 'sum_cases_per_day' and used the groupby() function to split the data into two groups '('dateRep')' and '['cases']'. We then placed our variable and used .plot() function to input the graph onto the notebook"
   ]
  },
  {
   "cell_type": "markdown",
   "id": "f51d1f5d",
   "metadata": {},
   "source": [
    "### Month with most Deaths"
   ]
  },
  {
   "cell_type": "markdown",
   "id": "ae45d1ab",
   "metadata": {},
   "source": [
    "To find the month with the most deaths, we created variable 'afghanistan_death_sum' and used groupby() function to pair \"months' and 'deaths'. We used the code .plot.bar() to input a bar graph of the variable. We then used the 'plt' function to plot the y label as deaths, the title as 'Covid-19 Deaths in Afghanistan by Month (2020)', and to show the data."
   ]
  },
  {
   "cell_type": "markdown",
   "id": "4fbdd100",
   "metadata": {},
   "source": [
    "### How Number of Deaths is Related to Number of Cases"
   ]
  },
  {
   "cell_type": "markdown",
   "id": "379149ac",
   "metadata": {},
   "source": [
    "To input a scatter plot to compare the data of covid cases to deaths and months, we used the variable 'afghanistan_data' and the function plot.scatter() to plot the data of our three labels."
   ]
  },
  {
   "cell_type": "markdown",
   "id": "40f3ceeb",
   "metadata": {},
   "source": [
    "## Interpretation of Visualizations"
   ]
  },
  {
   "cell_type": "markdown",
   "id": "16e1275b",
   "metadata": {},
   "source": [
    "### The Data"
   ]
  },
  {
   "cell_type": "markdown",
   "id": "dec20be3",
   "metadata": {},
   "source": [
    "The visualizations for the entire data set, and for Afghanistan data, are represented to show the top ten rows of Covid-19 distribution data for both 6900 rows (of all countries) and for the 339 rows of Afghanistan data. "
   ]
  },
  {
   "cell_type": "markdown",
   "id": "cc526803",
   "metadata": {},
   "source": [
    "### Trend of Confirmed Cases"
   ]
  },
  {
   "cell_type": "markdown",
   "id": "700c564b",
   "metadata": {},
   "source": [
    "The line chart displayed to show the trend of cases visualizes data by 'Daterep' and 'cases'. When we look at the graph, we see no cases until 2020-04 and then see a gradual increase and fluxuation in the number of cases. The peak of covid-19 confirmed cases in Afghanistan seems to be between 2020-05 and 2020-07. Visualization of the cases shows a trend of increasing cases (a 2nd wave as talked about in the background section) towards the end of 2020 (the graph)"
   ]
  },
  {
   "cell_type": "markdown",
   "id": "1d1835ea",
   "metadata": {},
   "source": [
    "### Month with most Deaths in Afghanistan"
   ]
  },
  {
   "cell_type": "markdown",
   "id": "5e15cfbf",
   "metadata": {},
   "source": [
    "The bar chart to display the month with the most deaths displays the data of 'months' and 'deaths' in Afghanistan. The 7th month, or July, was found to be the month with the most deaths in Afghanistan at roughly over 500 deaths. "
   ]
  },
  {
   "cell_type": "markdown",
   "id": "f01a8fc3",
   "metadata": {},
   "source": [
    "### How Number of Deaths is Related to Number of Cases"
   ]
  },
  {
   "cell_type": "markdown",
   "id": "cc4c2374",
   "metadata": {},
   "source": [
    "To compare 'cases' with 'deaths' and 'months', a scatter plot was able to show us the correlation of the data. The scatter plot  shows a moderate correlation between cases, months, and deaths within the same time frame. We see that most cases and deaths occur in months 1-4, and most deaths pertain to 10 or lower in this time frame. "
   ]
  }
 ],
 "metadata": {
  "kernelspec": {
   "display_name": "conda_python3",
   "language": "python",
   "name": "conda_python3"
  },
  "language_info": {
   "codemirror_mode": {
    "name": "ipython",
    "version": 3
   },
   "file_extension": ".py",
   "mimetype": "text/x-python",
   "name": "python",
   "nbconvert_exporter": "python",
   "pygments_lexer": "ipython3",
   "version": "3.6.13"
  }
 },
 "nbformat": 4,
 "nbformat_minor": 5
}
